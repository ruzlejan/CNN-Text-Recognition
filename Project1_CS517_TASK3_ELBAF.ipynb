{
  "cells": [
    {
      "cell_type": "markdown",
      "source": [
        "\n",
        "\n",
        "Colab Link for ALL 3 TASK :\n",
        "\n",
        "Task 1 : - https://colab.research.google.com/drive/18bCExWwfVT0g2uWh7tqDr1vsXcjEGx6l#scrollTo=1UEpkujLAWEa\n",
        "\n",
        "Task 2 : https://colab.research.google.com/drive/1428-0THwtMUC_qGeZX6lieJSwpvEHjGj\n",
        "\n",
        "Task 3 : https://colab.research.google.com/drive/1UrMuMc_lgAuQnYGTV5ycWNoc5sBdcKQp\n",
        "\n"
      ],
      "metadata": {
        "id": "fIgJiaoqCchO"
      }
    },
    {
      "cell_type": "markdown",
      "metadata": {
        "id": "_y_5xCp_bu33"
      },
      "source": [
        "\n",
        "\n",
        "*   https://skannai.medium.com/extracting-frames-from-a-video-by-using-opencv-machine-learning-22d832b43d6c\n",
        "*   https://www.tensorflow.org/tutorials/load_data/video\n",
        "\n"
      ]
    },
    {
      "cell_type": "code",
      "execution_count": null,
      "metadata": {
        "colab": {
          "base_uri": "https://localhost:8080/"
        },
        "id": "7HyC5xDdk4it",
        "outputId": "6eb8f957-9ee1-48f0-c0dd-74b1db42519a"
      },
      "outputs": [
        {
          "output_type": "stream",
          "name": "stdout",
          "text": [
            "Drive already mounted at /content/drive; to attempt to forcibly remount, call drive.mount(\"/content/drive\", force_remount=True).\n"
          ]
        }
      ],
      "source": [
        "import numpy as np\n",
        "import pandas as pd\n",
        "import os\n",
        "import random\n",
        "import time\n",
        "import cv2\n",
        "import tensorflow as tf\n",
        "from tensorflow import keras\n",
        "from keras import layers\n",
        "from tensorflow.keras.models import Sequential\n",
        "from tensorflow.keras.layers import Dense, Dropout, GlobalAveragePooling2D\n",
        "from tensorflow.keras.preprocessing.image import ImageDataGenerator\n",
        "from tensorflow.keras.applications import MobileNetV2\n",
        "from sklearn.preprocessing import StandardScaler, MinMaxScaler\n",
        "from skimage.filters import prewitt_h, prewitt_v\n",
        "import matplotlib.pyplot as plt\n",
        "import matplotlib.image as mpimg\n",
        "from google.colab import drive\n",
        "from google.colab.patches import cv2_imshow\n",
        "\n",
        "%matplotlib inline\n",
        "\n",
        "drive.mount('/content/drive')\n"
      ]
    },
    {
      "cell_type": "code",
      "execution_count": null,
      "metadata": {
        "colab": {
          "base_uri": "https://localhost:8080/"
        },
        "id": "QnaYzH3-ZRmp",
        "outputId": "d0843f44-dc0c-42a4-fbb0-28e40e289153"
      },
      "outputs": [
        {
          "output_type": "stream",
          "name": "stdout",
          "text": [
            "2.17.0\n"
          ]
        }
      ],
      "source": [
        "import tensorflow as tf\n",
        "print(tf.__version__)\n"
      ]
    },
    {
      "cell_type": "code",
      "execution_count": null,
      "metadata": {
        "colab": {
          "base_uri": "https://localhost:8080/"
        },
        "id": "Yc9C-r8kT7Qy",
        "outputId": "0803ba9f-8879-4c05-c5e6-944b8ed9cd7a"
      },
      "outputs": [
        {
          "output_type": "stream",
          "name": "stderr",
          "text": [
            "WARNING:absl:Compiled the loaded model, but the compiled metrics have yet to be built. `model.compile_metrics` will be empty until you train or evaluate the model.\n"
          ]
        }
      ],
      "source": [
        "\n",
        "\n",
        "from tensorflow.keras.models import load_model\n",
        "\n",
        "# Load the saved model\n",
        "#model_v2 = load_model('/content/drive/My Drive/CS517_Data_Set/modelMobileNet_fine_tuned.h5')\n",
        "model_Resnet = load_model('/content/drive/My Drive/CS517_Data_Set/ResNet50model_fine_tuned.h5')\n",
        "\n",
        "\n"
      ]
    },
    {
      "cell_type": "code",
      "execution_count": null,
      "metadata": {
        "id": "40Rfj9aqZ2AZ"
      },
      "outputs": [],
      "source": [
        "\n",
        "# # Visualize the model architecture\n",
        "# plot_model(model, show_shapes=True)\n"
      ]
    },
    {
      "cell_type": "code",
      "source": [
        "## ################################################## Fucntion to create frame through video and store them #################################3\n",
        "def preprocess_frame(frame):\n",
        "\n",
        "    gray = cv2.cvtColor(frame, cv2.COLOR_BGR2GRAY)\n",
        "    _, thresh = cv2.threshold(gray, 128, 255, cv2.THRESH_BINARY_INV + cv2.THRESH_OTSU)\n",
        "    contours, _ = cv2.findContours(thresh, cv2.RETR_EXTERNAL, cv2.CHAIN_APPROX_SIMPLE)\n",
        "\n",
        "    if contours:\n",
        "\n",
        "        largest_contour = max(contours, key=cv2.contourArea)\n",
        "        x, y, w, h = cv2.boundingRect(largest_contour)\n",
        "        digit_region = gray[y:y+h, x:x+w]\n",
        "\n",
        "\n",
        "        resized_digit = cv2.resize(digit_region, (32, 32))\n",
        "        input_frame = cv2.cvtColor(resized_digit, cv2.COLOR_GRAY2RGB)\n",
        "\n",
        "        input_frame = input_frame.astype('float32') / 255.0\n",
        "        input_frame = np.expand_dims(input_frame, axis=0)\n",
        "\n",
        "\n",
        "        return input_frame, (x, y, w, h)\n",
        "    else:\n",
        "\n",
        "        return None, (0, 0, frame.shape[1], frame.shape[0])\n",
        "\n"
      ],
      "metadata": {
        "id": "GH8NyGWalran"
      },
      "execution_count": null,
      "outputs": []
    },
    {
      "cell_type": "code",
      "execution_count": null,
      "metadata": {
        "id": "R2eXSGW0HTJa"
      },
      "outputs": [],
      "source": [
        "### ###########################################          Function to  predict digit from each frame ############################################################################333\n",
        "\n",
        "def predict_from_video(video_path, skip_frames=3, model=None, max_frames=500):\n",
        "    src = cv2.VideoCapture(video_path)\n",
        "    predictions = []\n",
        "    probabilities = []\n",
        "    frame_count = 0\n",
        "\n",
        "    while frame_count < max_frames:\n",
        "        ret, frame = src.read()\n",
        "        if not ret:\n",
        "            break\n",
        "\n",
        "        if frame_count % skip_frames == 0:\n",
        "            input_frame, bbox = preprocess_frame(frame)\n",
        "            if input_frame is not None:\n",
        "                pred = model.predict(input_frame)[0]\n",
        "                predicted_digit = np.argmax(pred)\n",
        "                probability = np.max(pred)\n",
        "\n",
        "                predictions.append(predicted_digit)\n",
        "                probabilities.append(probability)\n",
        "\n",
        "                x, y, w, h = bbox\n",
        "                label = f'Digit: {predicted_digit}, Prob: {probability:.2f}'\n",
        "                cv2.putText(frame, label, (x, y - 10), cv2.FONT_HERSHEY_SIMPLEX, 0.9, (0, 255, 0), 2)\n",
        "                cv2.rectangle(frame, (x, y), (x + w, y + h), (255, 0, 0), 2)\n",
        "\n",
        "\n",
        "            cv2_imshow( frame)\n",
        "\n",
        "        if cv2.waitKey(1) & 0xFF == ord('q'):\n",
        "            break\n",
        "\n",
        "        frame_count += 1\n",
        "\n",
        "    src.release()\n",
        "    cv2.destroyAllWindows()\n",
        "\n",
        "    return predictions, probabilities\n",
        "\n"
      ]
    },
    {
      "cell_type": "code",
      "execution_count": null,
      "metadata": {
        "collapsed": true,
        "id": "rgm9Gae-g0la"
      },
      "outputs": [],
      "source": [
        "video_path = '/content/drive/My Drive/CS517_Data_Set/REAL_TEST_digit.mp4'\n",
        "# # predictions = predict_from_video(video_path, model_v2)\n",
        "predictions, probabilities = predict_from_video(video_path, skip_frames=3, model=model_Resnet)\n",
        "\n"
      ]
    },
    {
      "cell_type": "code",
      "execution_count": null,
      "metadata": {
        "colab": {
          "base_uri": "https://localhost:8080/",
          "height": 487
        },
        "id": "pyoSyL6UfSBd",
        "outputId": "d8f81d52-5264-4fae-8ebb-1b413dab5616"
      },
      "outputs": [
        {
          "output_type": "display_data",
          "data": {
            "text/plain": [
              "<Figure size 1000x500 with 1 Axes>"
            ],
            "image/png": "[encoded data removed]"
          },
          "metadata": {}
        }
      ],
      "source": [
        "# Plot the prediction graph\n",
        "def plot_predictions(predictions):\n",
        "    plt.figure(figsize=(10, 5))\n",
        "    plt.plot(predictions, marker='o', linestyle='-', color='b')\n",
        "    plt.title('Predicted Digits for Each Frame')\n",
        "    plt.xlabel('Frame Number')\n",
        "    plt.ylabel('Predicted Digit')\n",
        "    plt.show()\n",
        "\n",
        "plot_predictions(predictions)"
      ]
    },
    {
      "cell_type": "code",
      "execution_count": null,
      "metadata": {
        "collapsed": true,
        "id": "jK2v-Cs7iaf9"
      },
      "outputs": [],
      "source": [
        "def plot_summary(predictions, probabilities):\n",
        "    unique_predictions = list(set(predictions))\n",
        "    confidence_avg = [np.mean([prob for pred, prob in zip(predictions, probabilities) if pred == digit]) for digit in unique_predictions]\n",
        "\n",
        "    plt.figure(figsize=(10, 5))\n",
        "    plt.bar(unique_predictions, confidence_avg, color='blue')\n",
        "    plt.xlabel('Digits')\n",
        "    plt.ylabel('Average Confidence')\n",
        "    plt.title('Average Confidence for Each Digit Detected')\n",
        "    plt.xticks(unique_predictions)\n",
        "    plt.ylim(0, 1)\n",
        "    plt.show()\n",
        "\n"
      ]
    },
    {
      "cell_type": "code",
      "execution_count": null,
      "metadata": {
        "colab": {
          "base_uri": "https://localhost:8080/",
          "height": 487
        },
        "id": "XZE2kdDwKYyW",
        "outputId": "d9d005e8-b298-441c-eb71-76af0c19705a"
      },
      "outputs": [
        {
          "output_type": "display_data",
          "data": {
            "text/plain": [
              "<Figure size 1000x500 with 1 Axes>"
            ],
            "image/png": "[encoded data removed]"
          },
          "metadata": {}
        }
      ],
      "source": [
        "plot_summary(predictions, probabilities)"
      ]
    },
    {
      "cell_type": "code",
      "execution_count": null,
      "metadata": {
        "id": "ja8gA6bAZ2ex"
      },
      "outputs": [],
      "source": []
    }
  ],
  "metadata": {
    "colab": {
      "machine_shape": "hm",
      "provenance": []
    },
    "kernelspec": {
      "display_name": "Python 3",
      "name": "python3"
    },
    "language_info": {
      "name": "python"
    }
  },
  "nbformat": 4,
  "nbformat_minor": 0
}